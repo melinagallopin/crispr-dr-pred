{
 "cells": [
  {
   "cell_type": "code",
   "execution_count": 1,
   "metadata": {},
   "outputs": [],
   "source": [
    "import numpy as np\n",
    "import pandas as pd\n",
    "from sklearn.model_selection import StratifiedKFold\n",
    "from sklearn.metrics import accuracy_score\n",
    "from sklearn.ensemble import RandomForestClassifier, GradientBoostingClassifier, AdaBoostClassifier\n",
    "from sklearn.model_selection import train_test_split\n",
    "from joblib import Parallel, delayed\n",
    "from itertools import repeat\n",
    "from time import time\n",
    "from copy import deepcopy\n",
    "from sklearn.metrics import confusion_matrix"
   ]
  },
  {
   "cell_type": "markdown",
   "metadata": {},
   "source": [
    "### Already Pre-processed"
   ]
  },
  {
   "cell_type": "code",
   "execution_count": 2,
   "metadata": {},
   "outputs": [],
   "source": [
    "df2 = pd.read_csv(\"data/processed_20210622.gz\")"
   ]
  },
  {
   "cell_type": "code",
   "execution_count": 3,
   "metadata": {},
   "outputs": [
    {
     "data": {
      "text/plain": [
       "(111897, 201)"
      ]
     },
     "execution_count": 3,
     "metadata": {},
     "output_type": "execute_result"
    }
   ],
   "source": [
    "df2.shape"
   ]
  },
  {
   "cell_type": "code",
   "execution_count": 4,
   "metadata": {},
   "outputs": [],
   "source": [
    "data1p = pd.read_csv(\"data/christine_b2f05.gz\")\n",
    "data2p = pd.read_csv(\"data/christine_b2f10.gz\")\n",
    "data = pd.concat((data1p, data2p))"
   ]
  },
  {
   "cell_type": "markdown",
   "metadata": {},
   "source": [
    "### With pre-processing"
   ]
  },
  {
   "cell_type": "code",
   "execution_count": 2,
   "metadata": {
    "scrolled": false
   },
   "outputs": [
    {
     "data": {
      "text/plain": [
       "(223810, 353)"
      ]
     },
     "execution_count": 2,
     "metadata": {},
     "output_type": "execute_result"
    }
   ],
   "source": [
    "df = pd.read_csv(\"data/my_20210622.gz\")\n",
    "df.shape"
   ]
  },
  {
   "cell_type": "code",
   "execution_count": 176,
   "metadata": {
    "scrolled": true
   },
   "outputs": [
    {
     "data": {
      "text/plain": [
       "(array([1, 2, 3, 4]), array([166028,   5622,   1182,  50978]))"
      ]
     },
     "execution_count": 176,
     "metadata": {},
     "output_type": "execute_result"
    }
   ],
   "source": [
    "np.unique(df.evidencelevel.values, return_counts=True)"
   ]
  },
  {
   "cell_type": "code",
   "execution_count": 177,
   "metadata": {
    "scrolled": true
   },
   "outputs": [
    {
     "data": {
      "text/plain": [
       "41068"
      ]
     },
     "execution_count": 177,
     "metadata": {},
     "output_type": "execute_result"
    }
   ],
   "source": [
    "np.sum(df['el4-learn']==1)"
   ]
  },
  {
   "cell_type": "code",
   "execution_count": 178,
   "metadata": {},
   "outputs": [
    {
     "data": {
      "text/plain": [
       "Index(['id', 'cl_start', 'cl_len', 'evidencelevel', 'cl_name', 'sequence',\n",
       "       'kingdom', 'species', 'evidencelevelreeval', 'cas_count', 'cas_class',\n",
       "       'seq_len', 'cas_prox_dist', 'cas_prox', 'cas_prox_class', 'el4-learn',\n",
       "       'blastscore'],\n",
       "      dtype='object')"
      ]
     },
     "execution_count": 178,
     "metadata": {},
     "output_type": "execute_result"
    }
   ],
   "source": [
    "df.columns[:17]"
   ]
  },
  {
   "cell_type": "markdown",
   "metadata": {},
   "source": [
    "### First Pre-processing"
   ]
  },
  {
   "cell_type": "code",
   "execution_count": 179,
   "metadata": {},
   "outputs": [],
   "source": [
    "def move_to_end(df, col_name):\n",
    "    col = df[col_name]\n",
    "    df.pop(col_name)\n",
    "    idx = df.shape[1]\n",
    "    df.insert(idx, col_name, col)\n",
    "\n",
    "def move_to_begining(df, col_name):\n",
    "    col = df[col_name]\n",
    "    df.pop(col_name)\n",
    "    df.insert(0, col_name, col)"
   ]
  },
  {
   "cell_type": "code",
   "execution_count": 288,
   "metadata": {},
   "outputs": [],
   "source": [
    "rnafold_params = ['rnafold_37_energy', 'rnafold_37_frequence', 'rnafold_37_diversity',\n",
    "       'rnafold_37_stem', 'rnafold_37_stem_diff', 'rnafold_37_loop',\n",
    "       'rnafold_37_stem_loop_nbr', 'rnafold_75_energy', 'rnafold_75_frequence',\n",
    "       'rnafold_75_diversity', 'rnafold_75_stem', 'rnafold_75_stem_diff',\n",
    "       'rnafold_75_loop', 'rnafold_75_stem_loop_nbr', 'rnafold_37_dot_par', 'rnafold_75_dot_par']\n",
    "# move to end all rnafold parameters\n",
    "for param in rnafold_params:\n",
    "    move_to_end(df, param)\n",
    "    \n",
    "# re-organize columns s.t. 3mers and 4mers are in alphabetical order\n",
    "info = df.columns[:17].tolist()\n",
    "sorted_3mers = sorted(df.columns[17:81])\n",
    "sorted_4mers = sorted(df.columns[81:337])\n",
    "rnafolds = df.columns[337:].tolist()\n",
    "\n",
    "df = df[info+sorted_3mers+sorted_4mers+rnafolds]"
   ]
  },
  {
   "cell_type": "code",
   "execution_count": 289,
   "metadata": {
    "scrolled": true
   },
   "outputs": [
    {
     "data": {
      "text/html": [
       "<div>\n",
       "<style scoped>\n",
       "    .dataframe tbody tr th:only-of-type {\n",
       "        vertical-align: middle;\n",
       "    }\n",
       "\n",
       "    .dataframe tbody tr th {\n",
       "        vertical-align: top;\n",
       "    }\n",
       "\n",
       "    .dataframe thead th {\n",
       "        text-align: right;\n",
       "    }\n",
       "</style>\n",
       "<table border=\"1\" class=\"dataframe\">\n",
       "  <thead>\n",
       "    <tr style=\"text-align: right;\">\n",
       "      <th></th>\n",
       "      <th>id</th>\n",
       "      <th>cl_start</th>\n",
       "      <th>cl_len</th>\n",
       "      <th>evidencelevel</th>\n",
       "      <th>cl_name</th>\n",
       "      <th>sequence</th>\n",
       "      <th>kingdom</th>\n",
       "      <th>species</th>\n",
       "      <th>evidencelevelreeval</th>\n",
       "      <th>cas_count</th>\n",
       "      <th>...</th>\n",
       "      <th>rnafold_37_stem_loop_nbr</th>\n",
       "      <th>rnafold_75_energy</th>\n",
       "      <th>rnafold_75_frequence</th>\n",
       "      <th>rnafold_75_diversity</th>\n",
       "      <th>rnafold_75_stem</th>\n",
       "      <th>rnafold_75_stem_diff</th>\n",
       "      <th>rnafold_75_loop</th>\n",
       "      <th>rnafold_75_stem_loop_nbr</th>\n",
       "      <th>rnafold_37_dot_par</th>\n",
       "      <th>rnafold_75_dot_par</th>\n",
       "    </tr>\n",
       "  </thead>\n",
       "  <tbody>\n",
       "    <tr>\n",
       "      <th>0</th>\n",
       "      <td>00000e27-d9b7-4212-908c-631c344833fd</td>\n",
       "      <td>2222259</td>\n",
       "      <td>129</td>\n",
       "      <td>1</td>\n",
       "      <td>CP065590_1</td>\n",
       "      <td>TGAAAACAACGGTTGTCCTTGGCCAGATACAGACGGTGACGGT</td>\n",
       "      <td>Bacteria</td>\n",
       "      <td>Chryseobacterium indologenes</td>\n",
       "      <td>NaN</td>\n",
       "      <td>1</td>\n",
       "      <td>...</td>\n",
       "      <td>1</td>\n",
       "      <td>0.0</td>\n",
       "      <td>0.267563</td>\n",
       "      <td>6.34</td>\n",
       "      <td>0</td>\n",
       "      <td>0</td>\n",
       "      <td>0</td>\n",
       "      <td>0</td>\n",
       "      <td>........((.(((..((.((........))...)).))).))</td>\n",
       "      <td>...........................................</td>\n",
       "    </tr>\n",
       "    <tr>\n",
       "      <th>1</th>\n",
       "      <td>00006819-e6c5-4a18-8f95-c286baf30f9a</td>\n",
       "      <td>848776</td>\n",
       "      <td>100</td>\n",
       "      <td>1</td>\n",
       "      <td>CP022336_1</td>\n",
       "      <td>ACCGCTTCCTGAAATTGCTTCTGGTTCTT</td>\n",
       "      <td>Bacteria</td>\n",
       "      <td>Sphingorhabdus sp. SMR4y</td>\n",
       "      <td>NaN</td>\n",
       "      <td>0</td>\n",
       "      <td>...</td>\n",
       "      <td>1</td>\n",
       "      <td>0.0</td>\n",
       "      <td>0.741981</td>\n",
       "      <td>1.57</td>\n",
       "      <td>0</td>\n",
       "      <td>0</td>\n",
       "      <td>0</td>\n",
       "      <td>0</td>\n",
       "      <td>.......((.(((.....))).)).....</td>\n",
       "      <td>.............................</td>\n",
       "    </tr>\n",
       "    <tr>\n",
       "      <th>2</th>\n",
       "      <td>00008500-4136-445e-b0b4-aa0843c1b5b0</td>\n",
       "      <td>279177</td>\n",
       "      <td>94</td>\n",
       "      <td>1</td>\n",
       "      <td>CP022427_2</td>\n",
       "      <td>TATTATTTGACCGCTGTTGCGCC</td>\n",
       "      <td>Bacteria</td>\n",
       "      <td>Pantoea ananatis</td>\n",
       "      <td>NaN</td>\n",
       "      <td>0</td>\n",
       "      <td>...</td>\n",
       "      <td>1</td>\n",
       "      <td>0.0</td>\n",
       "      <td>0.702724</td>\n",
       "      <td>1.26</td>\n",
       "      <td>0</td>\n",
       "      <td>0</td>\n",
       "      <td>0</td>\n",
       "      <td>0</td>\n",
       "      <td>...........(((....)))..</td>\n",
       "      <td>.......................</td>\n",
       "    </tr>\n",
       "    <tr>\n",
       "      <th>3</th>\n",
       "      <td>0001edc2-5dc5-44c3-92f1-3d062639ec81</td>\n",
       "      <td>788252</td>\n",
       "      <td>97</td>\n",
       "      <td>1</td>\n",
       "      <td>CP009513_2</td>\n",
       "      <td>TACTCTCCTGTTAAATAAAGAAAGAT</td>\n",
       "      <td>Archaea</td>\n",
       "      <td>Methanosarcina mazei</td>\n",
       "      <td>NaN</td>\n",
       "      <td>2</td>\n",
       "      <td>...</td>\n",
       "      <td>0</td>\n",
       "      <td>0.0</td>\n",
       "      <td>0.872185</td>\n",
       "      <td>0.77</td>\n",
       "      <td>0</td>\n",
       "      <td>0</td>\n",
       "      <td>0</td>\n",
       "      <td>0</td>\n",
       "      <td>..........................</td>\n",
       "      <td>..........................</td>\n",
       "    </tr>\n",
       "    <tr>\n",
       "      <th>4</th>\n",
       "      <td>00025e31-c0ea-49bd-a877-b0d440958122</td>\n",
       "      <td>2126067</td>\n",
       "      <td>84</td>\n",
       "      <td>1</td>\n",
       "      <td>CP012022_3</td>\n",
       "      <td>GTACCACCAGCCGCCGTGCCGCCAG</td>\n",
       "      <td>Bacteria</td>\n",
       "      <td>Corynebacterium pseudotuberculosis</td>\n",
       "      <td>NaN</td>\n",
       "      <td>1</td>\n",
       "      <td>...</td>\n",
       "      <td>1</td>\n",
       "      <td>0.0</td>\n",
       "      <td>0.819555</td>\n",
       "      <td>0.77</td>\n",
       "      <td>0</td>\n",
       "      <td>0</td>\n",
       "      <td>0</td>\n",
       "      <td>0</td>\n",
       "      <td>.........((.((...)).))...</td>\n",
       "      <td>.........................</td>\n",
       "    </tr>\n",
       "  </tbody>\n",
       "</table>\n",
       "<p>5 rows × 353 columns</p>\n",
       "</div>"
      ],
      "text/plain": [
       "                                     id  cl_start  cl_len  evidencelevel  \\\n",
       "0  00000e27-d9b7-4212-908c-631c344833fd   2222259     129              1   \n",
       "1  00006819-e6c5-4a18-8f95-c286baf30f9a    848776     100              1   \n",
       "2  00008500-4136-445e-b0b4-aa0843c1b5b0    279177      94              1   \n",
       "3  0001edc2-5dc5-44c3-92f1-3d062639ec81    788252      97              1   \n",
       "4  00025e31-c0ea-49bd-a877-b0d440958122   2126067      84              1   \n",
       "\n",
       "      cl_name                                     sequence   kingdom  \\\n",
       "0  CP065590_1  TGAAAACAACGGTTGTCCTTGGCCAGATACAGACGGTGACGGT  Bacteria   \n",
       "1  CP022336_1                ACCGCTTCCTGAAATTGCTTCTGGTTCTT  Bacteria   \n",
       "2  CP022427_2                      TATTATTTGACCGCTGTTGCGCC  Bacteria   \n",
       "3  CP009513_2                   TACTCTCCTGTTAAATAAAGAAAGAT   Archaea   \n",
       "4  CP012022_3                    GTACCACCAGCCGCCGTGCCGCCAG  Bacteria   \n",
       "\n",
       "                              species evidencelevelreeval  cas_count  ...  \\\n",
       "0        Chryseobacterium indologenes                 NaN          1  ...   \n",
       "1            Sphingorhabdus sp. SMR4y                 NaN          0  ...   \n",
       "2                    Pantoea ananatis                 NaN          0  ...   \n",
       "3                Methanosarcina mazei                 NaN          2  ...   \n",
       "4  Corynebacterium pseudotuberculosis                 NaN          1  ...   \n",
       "\n",
       "  rnafold_37_stem_loop_nbr  rnafold_75_energy  rnafold_75_frequence  \\\n",
       "0                        1                0.0              0.267563   \n",
       "1                        1                0.0              0.741981   \n",
       "2                        1                0.0              0.702724   \n",
       "3                        0                0.0              0.872185   \n",
       "4                        1                0.0              0.819555   \n",
       "\n",
       "   rnafold_75_diversity rnafold_75_stem  rnafold_75_stem_diff  \\\n",
       "0                  6.34               0                     0   \n",
       "1                  1.57               0                     0   \n",
       "2                  1.26               0                     0   \n",
       "3                  0.77               0                     0   \n",
       "4                  0.77               0                     0   \n",
       "\n",
       "   rnafold_75_loop  rnafold_75_stem_loop_nbr  \\\n",
       "0                0                         0   \n",
       "1                0                         0   \n",
       "2                0                         0   \n",
       "3                0                         0   \n",
       "4                0                         0   \n",
       "\n",
       "                            rnafold_37_dot_par  \\\n",
       "0  ........((.(((..((.((........))...)).))).))   \n",
       "1                .......((.(((.....))).)).....   \n",
       "2                      ...........(((....)))..   \n",
       "3                   ..........................   \n",
       "4                    .........((.((...)).))...   \n",
       "\n",
       "                            rnafold_75_dot_par  \n",
       "0  ...........................................  \n",
       "1                .............................  \n",
       "2                      .......................  \n",
       "3                   ..........................  \n",
       "4                    .........................  \n",
       "\n",
       "[5 rows x 353 columns]"
      ]
     },
     "execution_count": 289,
     "metadata": {},
     "output_type": "execute_result"
    }
   ],
   "source": [
    "df.head()"
   ]
  },
  {
   "cell_type": "markdown",
   "metadata": {},
   "source": [
    "Info"
   ]
  },
  {
   "cell_type": "code",
   "execution_count": 290,
   "metadata": {
    "scrolled": false
   },
   "outputs": [
    {
     "data": {
      "text/plain": [
       "Index(['id', 'cl_start', 'cl_len', 'evidencelevel', 'cl_name', 'sequence',\n",
       "       'kingdom', 'species', 'evidencelevelreeval', 'cas_count', 'cas_class',\n",
       "       'seq_len', 'cas_prox_dist', 'cas_prox', 'cas_prox_class', 'el4-learn',\n",
       "       'blastscore'],\n",
       "      dtype='object')"
      ]
     },
     "execution_count": 290,
     "metadata": {},
     "output_type": "execute_result"
    }
   ],
   "source": [
    "df.columns[:17]"
   ]
  },
  {
   "cell_type": "markdown",
   "metadata": {},
   "source": [
    "3-mers"
   ]
  },
  {
   "cell_type": "code",
   "execution_count": 291,
   "metadata": {
    "scrolled": false
   },
   "outputs": [
    {
     "data": {
      "text/plain": [
       "Index(['AAA', 'AAC', 'AAG', 'AAT', 'ACA', 'ACC', 'ACG', 'ACT', 'AGA', 'AGC',\n",
       "       'AGG', 'AGT', 'ATA', 'ATC', 'ATG', 'ATT', 'CAA', 'CAC', 'CAG', 'CAT',\n",
       "       'CCA', 'CCC', 'CCG', 'CCT', 'CGA', 'CGC', 'CGG', 'CGT', 'CTA', 'CTC',\n",
       "       'CTG', 'CTT', 'GAA', 'GAC', 'GAG', 'GAT', 'GCA', 'GCC', 'GCG', 'GCT',\n",
       "       'GGA', 'GGC', 'GGG', 'GGT', 'GTA', 'GTC', 'GTG', 'GTT', 'TAA', 'TAC',\n",
       "       'TAG', 'TAT', 'TCA', 'TCC', 'TCG', 'TCT', 'TGA', 'TGC', 'TGG', 'TGT',\n",
       "       'TTA', 'TTC', 'TTG', 'TTT'],\n",
       "      dtype='object')"
      ]
     },
     "execution_count": 291,
     "metadata": {},
     "output_type": "execute_result"
    }
   ],
   "source": [
    "df.columns[17:81]"
   ]
  },
  {
   "cell_type": "markdown",
   "metadata": {},
   "source": [
    "4-mers"
   ]
  },
  {
   "cell_type": "code",
   "execution_count": 292,
   "metadata": {
    "scrolled": false
   },
   "outputs": [
    {
     "data": {
      "text/plain": [
       "Index(['AAAA', 'AAAC', 'AAAG', 'AAAT', 'AACA', 'AACC', 'AACG', 'AACT', 'AAGA',\n",
       "       'AAGC',\n",
       "       ...\n",
       "       'TTCG', 'TTCT', 'TTGA', 'TTGC', 'TTGG', 'TTGT', 'TTTA', 'TTTC', 'TTTG',\n",
       "       'TTTT'],\n",
       "      dtype='object', length=256)"
      ]
     },
     "execution_count": 292,
     "metadata": {},
     "output_type": "execute_result"
    }
   ],
   "source": [
    "df.columns[81:337]"
   ]
  },
  {
   "cell_type": "markdown",
   "metadata": {},
   "source": [
    "rnafold"
   ]
  },
  {
   "cell_type": "code",
   "execution_count": 293,
   "metadata": {
    "scrolled": false
   },
   "outputs": [
    {
     "data": {
      "text/plain": [
       "Index(['rnafold_37_energy', 'rnafold_37_frequence', 'rnafold_37_diversity',\n",
       "       'rnafold_37_stem', 'rnafold_37_stem_diff', 'rnafold_37_loop',\n",
       "       'rnafold_37_stem_loop_nbr', 'rnafold_75_energy', 'rnafold_75_frequence',\n",
       "       'rnafold_75_diversity', 'rnafold_75_stem', 'rnafold_75_stem_diff',\n",
       "       'rnafold_75_loop', 'rnafold_75_stem_loop_nbr'],\n",
       "      dtype='object')"
      ]
     },
     "execution_count": 293,
     "metadata": {},
     "output_type": "execute_result"
    }
   ],
   "source": [
    "df.columns[337:351]"
   ]
  },
  {
   "cell_type": "code",
   "execution_count": 294,
   "metadata": {
    "scrolled": true
   },
   "outputs": [
    {
     "data": {
      "text/plain": [
       "Index(['rnafold_37_dot_par', 'rnafold_75_dot_par'], dtype='object')"
      ]
     },
     "execution_count": 294,
     "metadata": {},
     "output_type": "execute_result"
    }
   ],
   "source": [
    "df.columns[351:]"
   ]
  },
  {
   "cell_type": "markdown",
   "metadata": {},
   "source": [
    "### Data Cleaning"
   ]
  },
  {
   "cell_type": "markdown",
   "metadata": {},
   "source": [
    "Removal of observations with letters K,M,R,Y"
   ]
  },
  {
   "cell_type": "code",
   "execution_count": 295,
   "metadata": {
    "scrolled": true
   },
   "outputs": [
    {
     "data": {
      "text/plain": [
       "111905"
      ]
     },
     "execution_count": 295,
     "metadata": {},
     "output_type": "execute_result"
    }
   ],
   "source": [
    "np.unique(df.id).size"
   ]
  },
  {
   "cell_type": "code",
   "execution_count": 296,
   "metadata": {},
   "outputs": [],
   "source": [
    "def is_reverse_complement(seq1, seq2):\n",
    "    rc = seq2[::-1]\n",
    "    rc = rc.replace('A', '*')\n",
    "    rc = rc.replace('T', 'A')\n",
    "    rc = rc.replace('*', 'T')\n",
    "    rc = rc.replace('C', '*')\n",
    "    rc = rc.replace('G', 'C')\n",
    "    rc = rc.replace('*', 'G')\n",
    "    return seq1 == rc"
   ]
  },
  {
   "cell_type": "code",
   "execution_count": 298,
   "metadata": {},
   "outputs": [
    {
     "data": {
      "text/plain": [
       "111897"
      ]
     },
     "execution_count": 298,
     "metadata": {},
     "output_type": "execute_result"
    }
   ],
   "source": [
    "# each i-th element (i=0:df.shape[0]/2) is a DR, while each (i+df.shape[0]/2)-th is the corresponding RC\n",
    "n_obs = int(df.shape[0]/2)\n",
    "# check is not perfect because there are some DNAs with letters K,M,R,Y\n",
    "check = np.array([is_reverse_complement(*df.iloc[[i, i+n_obs]]['sequence']) for i in range(n_obs)])\n",
    "check.sum()"
   ]
  },
  {
   "cell_type": "code",
   "execution_count": 299,
   "metadata": {},
   "outputs": [
    {
     "data": {
      "text/html": [
       "<div>\n",
       "<style scoped>\n",
       "    .dataframe tbody tr th:only-of-type {\n",
       "        vertical-align: middle;\n",
       "    }\n",
       "\n",
       "    .dataframe tbody tr th {\n",
       "        vertical-align: top;\n",
       "    }\n",
       "\n",
       "    .dataframe thead th {\n",
       "        text-align: right;\n",
       "    }\n",
       "</style>\n",
       "<table border=\"1\" class=\"dataframe\">\n",
       "  <thead>\n",
       "    <tr style=\"text-align: right;\">\n",
       "      <th></th>\n",
       "      <th>id</th>\n",
       "      <th>cl_start</th>\n",
       "      <th>cl_len</th>\n",
       "      <th>evidencelevel</th>\n",
       "      <th>cl_name</th>\n",
       "      <th>sequence</th>\n",
       "      <th>kingdom</th>\n",
       "      <th>species</th>\n",
       "      <th>evidencelevelreeval</th>\n",
       "      <th>cas_count</th>\n",
       "      <th>...</th>\n",
       "      <th>rnafold_37_stem_loop_nbr</th>\n",
       "      <th>rnafold_75_energy</th>\n",
       "      <th>rnafold_75_frequence</th>\n",
       "      <th>rnafold_75_diversity</th>\n",
       "      <th>rnafold_75_stem</th>\n",
       "      <th>rnafold_75_stem_diff</th>\n",
       "      <th>rnafold_75_loop</th>\n",
       "      <th>rnafold_75_stem_loop_nbr</th>\n",
       "      <th>rnafold_37_dot_par</th>\n",
       "      <th>rnafold_75_dot_par</th>\n",
       "    </tr>\n",
       "  </thead>\n",
       "  <tbody>\n",
       "    <tr>\n",
       "      <th>0</th>\n",
       "      <td>00000e27-d9b7-4212-908c-631c344833fd</td>\n",
       "      <td>2222259</td>\n",
       "      <td>129</td>\n",
       "      <td>1</td>\n",
       "      <td>CP065590_1</td>\n",
       "      <td>TGAAAACAACGGTTGTCCTTGGCCAGATACAGACGGTGACGGT</td>\n",
       "      <td>Bacteria</td>\n",
       "      <td>Chryseobacterium indologenes</td>\n",
       "      <td>NaN</td>\n",
       "      <td>1</td>\n",
       "      <td>...</td>\n",
       "      <td>1</td>\n",
       "      <td>0.0</td>\n",
       "      <td>0.267563</td>\n",
       "      <td>6.34</td>\n",
       "      <td>0</td>\n",
       "      <td>0</td>\n",
       "      <td>0</td>\n",
       "      <td>0</td>\n",
       "      <td>........((.(((..((.((........))...)).))).))</td>\n",
       "      <td>...........................................</td>\n",
       "    </tr>\n",
       "    <tr>\n",
       "      <th>1</th>\n",
       "      <td>00006819-e6c5-4a18-8f95-c286baf30f9a</td>\n",
       "      <td>848776</td>\n",
       "      <td>100</td>\n",
       "      <td>1</td>\n",
       "      <td>CP022336_1</td>\n",
       "      <td>ACCGCTTCCTGAAATTGCTTCTGGTTCTT</td>\n",
       "      <td>Bacteria</td>\n",
       "      <td>Sphingorhabdus sp. SMR4y</td>\n",
       "      <td>NaN</td>\n",
       "      <td>0</td>\n",
       "      <td>...</td>\n",
       "      <td>1</td>\n",
       "      <td>0.0</td>\n",
       "      <td>0.741981</td>\n",
       "      <td>1.57</td>\n",
       "      <td>0</td>\n",
       "      <td>0</td>\n",
       "      <td>0</td>\n",
       "      <td>0</td>\n",
       "      <td>.......((.(((.....))).)).....</td>\n",
       "      <td>.............................</td>\n",
       "    </tr>\n",
       "    <tr>\n",
       "      <th>2</th>\n",
       "      <td>00008500-4136-445e-b0b4-aa0843c1b5b0</td>\n",
       "      <td>279177</td>\n",
       "      <td>94</td>\n",
       "      <td>1</td>\n",
       "      <td>CP022427_2</td>\n",
       "      <td>TATTATTTGACCGCTGTTGCGCC</td>\n",
       "      <td>Bacteria</td>\n",
       "      <td>Pantoea ananatis</td>\n",
       "      <td>NaN</td>\n",
       "      <td>0</td>\n",
       "      <td>...</td>\n",
       "      <td>1</td>\n",
       "      <td>0.0</td>\n",
       "      <td>0.702724</td>\n",
       "      <td>1.26</td>\n",
       "      <td>0</td>\n",
       "      <td>0</td>\n",
       "      <td>0</td>\n",
       "      <td>0</td>\n",
       "      <td>...........(((....)))..</td>\n",
       "      <td>.......................</td>\n",
       "    </tr>\n",
       "    <tr>\n",
       "      <th>3</th>\n",
       "      <td>0001edc2-5dc5-44c3-92f1-3d062639ec81</td>\n",
       "      <td>788252</td>\n",
       "      <td>97</td>\n",
       "      <td>1</td>\n",
       "      <td>CP009513_2</td>\n",
       "      <td>TACTCTCCTGTTAAATAAAGAAAGAT</td>\n",
       "      <td>Archaea</td>\n",
       "      <td>Methanosarcina mazei</td>\n",
       "      <td>NaN</td>\n",
       "      <td>2</td>\n",
       "      <td>...</td>\n",
       "      <td>0</td>\n",
       "      <td>0.0</td>\n",
       "      <td>0.872185</td>\n",
       "      <td>0.77</td>\n",
       "      <td>0</td>\n",
       "      <td>0</td>\n",
       "      <td>0</td>\n",
       "      <td>0</td>\n",
       "      <td>..........................</td>\n",
       "      <td>..........................</td>\n",
       "    </tr>\n",
       "    <tr>\n",
       "      <th>4</th>\n",
       "      <td>00025e31-c0ea-49bd-a877-b0d440958122</td>\n",
       "      <td>2126067</td>\n",
       "      <td>84</td>\n",
       "      <td>1</td>\n",
       "      <td>CP012022_3</td>\n",
       "      <td>GTACCACCAGCCGCCGTGCCGCCAG</td>\n",
       "      <td>Bacteria</td>\n",
       "      <td>Corynebacterium pseudotuberculosis</td>\n",
       "      <td>NaN</td>\n",
       "      <td>1</td>\n",
       "      <td>...</td>\n",
       "      <td>1</td>\n",
       "      <td>0.0</td>\n",
       "      <td>0.819555</td>\n",
       "      <td>0.77</td>\n",
       "      <td>0</td>\n",
       "      <td>0</td>\n",
       "      <td>0</td>\n",
       "      <td>0</td>\n",
       "      <td>.........((.((...)).))...</td>\n",
       "      <td>.........................</td>\n",
       "    </tr>\n",
       "  </tbody>\n",
       "</table>\n",
       "<p>5 rows × 353 columns</p>\n",
       "</div>"
      ],
      "text/plain": [
       "                                     id  cl_start  cl_len  evidencelevel  \\\n",
       "0  00000e27-d9b7-4212-908c-631c344833fd   2222259     129              1   \n",
       "1  00006819-e6c5-4a18-8f95-c286baf30f9a    848776     100              1   \n",
       "2  00008500-4136-445e-b0b4-aa0843c1b5b0    279177      94              1   \n",
       "3  0001edc2-5dc5-44c3-92f1-3d062639ec81    788252      97              1   \n",
       "4  00025e31-c0ea-49bd-a877-b0d440958122   2126067      84              1   \n",
       "\n",
       "      cl_name                                     sequence   kingdom  \\\n",
       "0  CP065590_1  TGAAAACAACGGTTGTCCTTGGCCAGATACAGACGGTGACGGT  Bacteria   \n",
       "1  CP022336_1                ACCGCTTCCTGAAATTGCTTCTGGTTCTT  Bacteria   \n",
       "2  CP022427_2                      TATTATTTGACCGCTGTTGCGCC  Bacteria   \n",
       "3  CP009513_2                   TACTCTCCTGTTAAATAAAGAAAGAT   Archaea   \n",
       "4  CP012022_3                    GTACCACCAGCCGCCGTGCCGCCAG  Bacteria   \n",
       "\n",
       "                              species evidencelevelreeval  cas_count  ...  \\\n",
       "0        Chryseobacterium indologenes                 NaN          1  ...   \n",
       "1            Sphingorhabdus sp. SMR4y                 NaN          0  ...   \n",
       "2                    Pantoea ananatis                 NaN          0  ...   \n",
       "3                Methanosarcina mazei                 NaN          2  ...   \n",
       "4  Corynebacterium pseudotuberculosis                 NaN          1  ...   \n",
       "\n",
       "  rnafold_37_stem_loop_nbr  rnafold_75_energy  rnafold_75_frequence  \\\n",
       "0                        1                0.0              0.267563   \n",
       "1                        1                0.0              0.741981   \n",
       "2                        1                0.0              0.702724   \n",
       "3                        0                0.0              0.872185   \n",
       "4                        1                0.0              0.819555   \n",
       "\n",
       "   rnafold_75_diversity rnafold_75_stem  rnafold_75_stem_diff  \\\n",
       "0                  6.34               0                     0   \n",
       "1                  1.57               0                     0   \n",
       "2                  1.26               0                     0   \n",
       "3                  0.77               0                     0   \n",
       "4                  0.77               0                     0   \n",
       "\n",
       "   rnafold_75_loop  rnafold_75_stem_loop_nbr  \\\n",
       "0                0                         0   \n",
       "1                0                         0   \n",
       "2                0                         0   \n",
       "3                0                         0   \n",
       "4                0                         0   \n",
       "\n",
       "                            rnafold_37_dot_par  \\\n",
       "0  ........((.(((..((.((........))...)).))).))   \n",
       "1                .......((.(((.....))).)).....   \n",
       "2                      ...........(((....)))..   \n",
       "3                   ..........................   \n",
       "4                    .........((.((...)).))...   \n",
       "\n",
       "                            rnafold_75_dot_par  \n",
       "0  ...........................................  \n",
       "1                .............................  \n",
       "2                      .......................  \n",
       "3                   ..........................  \n",
       "4                    .........................  \n",
       "\n",
       "[5 rows x 353 columns]"
      ]
     },
     "execution_count": 299,
     "metadata": {},
     "output_type": "execute_result"
    }
   ],
   "source": [
    "# remove these weird observations\n",
    "to_delete = np.where(np.logical_not(check))[0]\n",
    "to_delete = to_delete.tolist() + (to_delete+n_obs).tolist()\n",
    "df = df.drop(index=to_delete)\n",
    "df.head()"
   ]
  },
  {
   "cell_type": "markdown",
   "metadata": {},
   "source": [
    "#### Removal of repetitive ids"
   ]
  },
  {
   "cell_type": "markdown",
   "metadata": {},
   "source": [
    "1. In the data set, for each DR a reverse complement (RC) was generated.\n",
    "2. To construct canonical k-mers, a DR and its RC is used (AAA_new = AAA_dr + AAA_rc). Then, the sample size will be n/2."
   ]
  },
  {
   "cell_type": "code",
   "execution_count": 300,
   "metadata": {},
   "outputs": [],
   "source": [
    "def canonical_mers(dir_repeat, rev_compl, start, end):\n",
    "    final_example = rev_compl.copy() if rev_compl.rnafold_37_energy < dir_repeat.rnafold_37_energy else dir_repeat.copy()\n",
    "    final_example.iloc[start:end] = dir_repeat.iloc[start:end] + rev_compl.iloc[start:end]\n",
    "    return final_example"
   ]
  },
  {
   "cell_type": "code",
   "execution_count": 301,
   "metadata": {},
   "outputs": [],
   "source": [
    "n_obs = int(df.shape[0] / 2)"
   ]
  },
  {
   "cell_type": "code",
   "execution_count": 317,
   "metadata": {
    "scrolled": true
   },
   "outputs": [],
   "source": [
    "df2 = pd.concat([canonical_mers(df.iloc[i], df.iloc[i+n_obs], 17, 337) for i in range(n_obs)], axis=1).T"
   ]
  },
  {
   "cell_type": "code",
   "execution_count": 318,
   "metadata": {
    "scrolled": false
   },
   "outputs": [
    {
     "data": {
      "text/html": [
       "<div>\n",
       "<style scoped>\n",
       "    .dataframe tbody tr th:only-of-type {\n",
       "        vertical-align: middle;\n",
       "    }\n",
       "\n",
       "    .dataframe tbody tr th {\n",
       "        vertical-align: top;\n",
       "    }\n",
       "\n",
       "    .dataframe thead th {\n",
       "        text-align: right;\n",
       "    }\n",
       "</style>\n",
       "<table border=\"1\" class=\"dataframe\">\n",
       "  <thead>\n",
       "    <tr style=\"text-align: right;\">\n",
       "      <th></th>\n",
       "      <th>TCA</th>\n",
       "      <th>TGA</th>\n",
       "    </tr>\n",
       "  </thead>\n",
       "  <tbody>\n",
       "    <tr>\n",
       "      <th>0</th>\n",
       "      <td>0.0487805</td>\n",
       "      <td>0.0487805</td>\n",
       "    </tr>\n",
       "    <tr>\n",
       "      <th>1</th>\n",
       "      <td>0.037037</td>\n",
       "      <td>0.037037</td>\n",
       "    </tr>\n",
       "    <tr>\n",
       "      <th>111907</th>\n",
       "      <td>0.047619</td>\n",
       "      <td>0.047619</td>\n",
       "    </tr>\n",
       "    <tr>\n",
       "      <th>111908</th>\n",
       "      <td>0</td>\n",
       "      <td>0</td>\n",
       "    </tr>\n",
       "    <tr>\n",
       "      <th>111909</th>\n",
       "      <td>0</td>\n",
       "      <td>0</td>\n",
       "    </tr>\n",
       "    <tr>\n",
       "      <th>...</th>\n",
       "      <td>...</td>\n",
       "      <td>...</td>\n",
       "    </tr>\n",
       "    <tr>\n",
       "      <th>223805</th>\n",
       "      <td>0.05</td>\n",
       "      <td>0.05</td>\n",
       "    </tr>\n",
       "    <tr>\n",
       "      <th>111901</th>\n",
       "      <td>0.136364</td>\n",
       "      <td>0.136364</td>\n",
       "    </tr>\n",
       "    <tr>\n",
       "      <th>223807</th>\n",
       "      <td>0.0909091</td>\n",
       "      <td>0.0909091</td>\n",
       "    </tr>\n",
       "    <tr>\n",
       "      <th>223808</th>\n",
       "      <td>0.0384615</td>\n",
       "      <td>0.0384615</td>\n",
       "    </tr>\n",
       "    <tr>\n",
       "      <th>111904</th>\n",
       "      <td>0</td>\n",
       "      <td>0</td>\n",
       "    </tr>\n",
       "  </tbody>\n",
       "</table>\n",
       "<p>111897 rows × 2 columns</p>\n",
       "</div>"
      ],
      "text/plain": [
       "              TCA        TGA\n",
       "0       0.0487805  0.0487805\n",
       "1        0.037037   0.037037\n",
       "111907   0.047619   0.047619\n",
       "111908          0          0\n",
       "111909          0          0\n",
       "...           ...        ...\n",
       "223805       0.05       0.05\n",
       "111901   0.136364   0.136364\n",
       "223807  0.0909091  0.0909091\n",
       "223808  0.0384615  0.0384615\n",
       "111904          0          0\n",
       "\n",
       "[111897 rows x 2 columns]"
      ]
     },
     "execution_count": 318,
     "metadata": {},
     "output_type": "execute_result"
    }
   ],
   "source": [
    "df2[[\"TCA\", \"TGA\"]]"
   ]
  },
  {
   "cell_type": "markdown",
   "metadata": {},
   "source": [
    "#### Delete mers that are reverse complements to other mers"
   ]
  },
  {
   "cell_type": "code",
   "execution_count": 304,
   "metadata": {},
   "outputs": [],
   "source": [
    "def reverse_complement(seq):\n",
    "    rc = seq[::-1]\n",
    "    rc = rc.replace('A', '*')\n",
    "    rc = rc.replace('T', 'A')\n",
    "    rc = rc.replace('*', 'T')\n",
    "    rc = rc.replace('C', '*')\n",
    "    rc = rc.replace('G', 'C')\n",
    "    rc = rc.replace('*', 'G')\n",
    "    return rc"
   ]
  },
  {
   "cell_type": "code",
   "execution_count": 305,
   "metadata": {},
   "outputs": [],
   "source": [
    "def find_sufficient_mers(mers):\n",
    "    res = []\n",
    "    for mer in mers:\n",
    "        rc = reverse_complement(mer)\n",
    "        if rc == mer:\n",
    "            res.append(mer)\n",
    "        else:\n",
    "            if rc not in res:\n",
    "                res.append(mer)\n",
    "    return res"
   ]
  },
  {
   "cell_type": "code",
   "execution_count": 321,
   "metadata": {},
   "outputs": [
    {
     "data": {
      "text/plain": [
       "(111897, 201)"
      ]
     },
     "execution_count": 321,
     "metadata": {},
     "output_type": "execute_result"
    }
   ],
   "source": [
    "to_keep = find_sufficient_mers(df.columns[17:81]) + find_sufficient_mers(df.columns[81:337])\n",
    "\n",
    "to_delete = pd.Index(np.setdiff1d(df.columns[17:337], to_keep))\n",
    "\n",
    "df2 = df2.drop(to_delete, axis='columns')\n",
    "\n",
    "df2.shape"
   ]
  },
  {
   "cell_type": "code",
   "execution_count": 322,
   "metadata": {
    "scrolled": true
   },
   "outputs": [
    {
     "data": {
      "text/plain": [
       "Index(['AAA', 'AAC', 'AAG', 'AAT', 'ACA', 'ACC', 'ACG', 'ACT', 'AGA', 'AGC',\n",
       "       'AGG', 'ATA', 'ATC', 'ATG', 'CAA', 'CAC', 'CAG', 'CCA', 'CCC', 'CCG',\n",
       "       'CGA', 'CGC', 'CTA', 'CTC', 'GAA', 'GAC', 'GCA', 'GCC', 'GGA', 'GTA',\n",
       "       'TAA', 'TCA'],\n",
       "      dtype='object')"
      ]
     },
     "execution_count": 322,
     "metadata": {},
     "output_type": "execute_result"
    }
   ],
   "source": [
    "df2.columns[17:49]"
   ]
  },
  {
   "cell_type": "code",
   "execution_count": 323,
   "metadata": {},
   "outputs": [
    {
     "data": {
      "text/plain": [
       "Index(['AAAA', 'AAAC', 'AAAG', 'AAAT', 'AACA', 'AACC', 'AACG', 'AACT', 'AAGA',\n",
       "       'AAGC',\n",
       "       ...\n",
       "       'TAAA', 'TACA', 'TAGA', 'TATA', 'TCAA', 'TCCA', 'TCGA', 'TGAA', 'TGCA',\n",
       "       'TTAA'],\n",
       "      dtype='object', length=136)"
      ]
     },
     "execution_count": 323,
     "metadata": {},
     "output_type": "execute_result"
    }
   ],
   "source": [
    "df2.columns[49:185]"
   ]
  },
  {
   "cell_type": "code",
   "execution_count": 388,
   "metadata": {
    "scrolled": false
   },
   "outputs": [
    {
     "data": {
      "text/plain": [
       "Index(['rnafold_37_energy', 'rnafold_37_frequence', 'rnafold_37_diversity',\n",
       "       'rnafold_37_stem', 'rnafold_37_stem_diff', 'rnafold_37_loop',\n",
       "       'rnafold_37_stem_loop_nbr', 'rnafold_75_energy', 'rnafold_75_frequence',\n",
       "       'rnafold_75_diversity', 'rnafold_75_stem', 'rnafold_75_stem_diff',\n",
       "       'rnafold_75_loop', 'rnafold_75_stem_loop_nbr'],\n",
       "      dtype='object')"
      ]
     },
     "execution_count": 388,
     "metadata": {},
     "output_type": "execute_result"
    }
   ],
   "source": [
    "df2.columns[185:199]"
   ]
  },
  {
   "cell_type": "code",
   "execution_count": 13,
   "metadata": {},
   "outputs": [],
   "source": [
    "three_mers = np.arange(17, 49).tolist()\n",
    "four_mers = np.arange(49, 185).tolist()\n",
    "rnafold = np.arange(185, 199).tolist()\n",
    "features = [three_mers, four_mers, rnafold]\n",
    "combs = {\n",
    "    0: four_mers,\n",
    "    1: rnafold,\n",
    "    2: four_mers  + rnafold,\n",
    "}"
   ]
  },
  {
   "cell_type": "code",
   "execution_count": 390,
   "metadata": {},
   "outputs": [],
   "source": [
    "cond = df2['el4-learn'] == 1"
   ]
  },
  {
   "cell_type": "code",
   "execution_count": 330,
   "metadata": {
    "scrolled": true
   },
   "outputs": [
    {
     "data": {
      "text/plain": [
       "(array(['CAS', 'CAS-TypeIA', 'CAS-TypeIB', 'CAS-TypeIC', 'CAS-TypeID',\n",
       "        'CAS-TypeIE', 'CAS-TypeIF', 'CAS-TypeIIA', 'CAS-TypeIIB',\n",
       "        'CAS-TypeIIC', 'CAS-TypeIIIA', 'CAS-TypeIIIB', 'CAS-TypeIIIC',\n",
       "        'CAS-TypeIIID', 'CAS-TypeIU', 'CAS-TypeIV', 'CAS-TypeVA',\n",
       "        'CAS-TypeVB', 'CAS-TypeVIA', 'CAS-TypeVIB1', 'CAS-TypeVIB2',\n",
       "        'CAS-TypeVIC'], dtype=object),\n",
       " array([ 291,  450, 1505, 1637,  217, 9087, 2157,  986,   52, 1179, 1318,\n",
       "         688,   46,  419,  313,   17,   42,   14,    4,  106,    4,    2]))"
      ]
     },
     "execution_count": 330,
     "metadata": {},
     "output_type": "execute_result"
    }
   ],
   "source": [
    "np.unique(df2.cas_prox_class[df['el4-learn'] == 1], return_counts=True)"
   ]
  },
  {
   "cell_type": "code",
   "execution_count": 391,
   "metadata": {},
   "outputs": [
    {
     "data": {
      "text/plain": [
       "array([0.9328, 0.913 , 0.9335])"
      ]
     },
     "execution_count": 391,
     "metadata": {},
     "output_type": "execute_result"
    }
   ],
   "source": [
    "models = []\n",
    "oob_res = []\n",
    "for i in range(3):\n",
    "    model = RandomForestClassifier(n_estimators=300, oob_score=True, n_jobs=-1, random_state=0)\n",
    "    x, y = np.array(df2[cond].iloc[:, combs[i]]), df2.cas_prox_class[cond].values\n",
    "    model.fit(x, y)\n",
    "    models.append(model)\n",
    "    oob_res.append(model.oob_score_)\n",
    "np.round(oob_res, 4)"
   ]
  },
  {
   "cell_type": "code",
   "execution_count": 364,
   "metadata": {
    "scrolled": true
   },
   "outputs": [
    {
     "data": {
      "text/plain": [
       "RandomForestClassifier(bootstrap=True, ccp_alpha=0.0, class_weight=None,\n",
       "                       criterion='gini', max_depth=None, max_features='auto',\n",
       "                       max_leaf_nodes=None, max_samples=None,\n",
       "                       min_impurity_decrease=0.0, min_impurity_split=None,\n",
       "                       min_samples_leaf=1, min_samples_split=2,\n",
       "                       min_weight_fraction_leaf=0.0, n_estimators=300,\n",
       "                       n_jobs=-1, oob_score=True, random_state=0, verbose=0,\n",
       "                       warm_start=False)"
      ]
     },
     "execution_count": 364,
     "metadata": {},
     "output_type": "execute_result"
    }
   ],
   "source": [
    "model = RandomForestClassifier(n_estimators=300, oob_score=True, n_jobs=-1, random_state=0)\n",
    "x, y = np.array(df2[cond].iloc[:, combs[2]]), df2.cas_prox_class[cond].values\n",
    "model.fit(x, y)"
   ]
  },
  {
   "cell_type": "markdown",
   "metadata": {},
   "source": [
    "### Christine's Data Sets"
   ]
  },
  {
   "cell_type": "markdown",
   "metadata": {},
   "source": [
    "#### B2F05"
   ]
  },
  {
   "cell_type": "code",
   "execution_count": 409,
   "metadata": {
    "scrolled": true
   },
   "outputs": [],
   "source": [
    "data1 = pd.read_csv(\"data/20210415_cp_meta_b2f05_processed.csv\", decimal=',', sep=';')"
   ]
  },
  {
   "cell_type": "code",
   "execution_count": 410,
   "metadata": {},
   "outputs": [],
   "source": [
    "move_to_end(data1, \"rnafold_37_dot_par\")\n",
    "move_to_end(data1, \"rnafold_75_dot_par\")\n",
    "\n",
    "# convert to float\n",
    "data1.iloc[:, 4:338] = data1.iloc[:, 4:338].astype('float')\n",
    "\n",
    "# re-organize columns s.t. 3mers and 4mers are in alphabetical order\n",
    "info = data1.columns[:4].tolist()\n",
    "sorted_3mers = sorted(data1.columns[4:68])\n",
    "sorted_4mers = sorted(data1.columns[68:324])\n",
    "rnafolds = data1.columns[324:].tolist()\n",
    "\n",
    "data1 = data1[info+sorted_3mers+sorted_4mers+rnafolds]"
   ]
  },
  {
   "cell_type": "code",
   "execution_count": 411,
   "metadata": {
    "scrolled": true
   },
   "outputs": [],
   "source": [
    "n_obs = int(data1.shape[0] / 2)\n",
    "data1p = pd.concat([canonical_mers(data1.iloc[i], data1.iloc[i+n_obs], 4, 324) for i in range(n_obs)], axis=1).T"
   ]
  },
  {
   "cell_type": "code",
   "execution_count": 414,
   "metadata": {
    "scrolled": true
   },
   "outputs": [
    {
     "data": {
      "text/html": [
       "<div>\n",
       "<style scoped>\n",
       "    .dataframe tbody tr th:only-of-type {\n",
       "        vertical-align: middle;\n",
       "    }\n",
       "\n",
       "    .dataframe tbody tr th {\n",
       "        vertical-align: top;\n",
       "    }\n",
       "\n",
       "    .dataframe thead th {\n",
       "        text-align: right;\n",
       "    }\n",
       "</style>\n",
       "<table border=\"1\" class=\"dataframe\">\n",
       "  <thead>\n",
       "    <tr style=\"text-align: right;\">\n",
       "      <th></th>\n",
       "      <th>ATTA</th>\n",
       "      <th>TAAT</th>\n",
       "    </tr>\n",
       "  </thead>\n",
       "  <tbody>\n",
       "    <tr>\n",
       "      <th>121</th>\n",
       "      <td>0</td>\n",
       "      <td>0</td>\n",
       "    </tr>\n",
       "    <tr>\n",
       "      <th>122</th>\n",
       "      <td>0</td>\n",
       "      <td>0</td>\n",
       "    </tr>\n",
       "    <tr>\n",
       "      <th>123</th>\n",
       "      <td>0</td>\n",
       "      <td>0</td>\n",
       "    </tr>\n",
       "    <tr>\n",
       "      <th>124</th>\n",
       "      <td>0</td>\n",
       "      <td>0</td>\n",
       "    </tr>\n",
       "    <tr>\n",
       "      <th>4</th>\n",
       "      <td>0</td>\n",
       "      <td>0</td>\n",
       "    </tr>\n",
       "    <tr>\n",
       "      <th>...</th>\n",
       "      <td>...</td>\n",
       "      <td>...</td>\n",
       "    </tr>\n",
       "    <tr>\n",
       "      <th>116</th>\n",
       "      <td>0.04</td>\n",
       "      <td>0.04</td>\n",
       "    </tr>\n",
       "    <tr>\n",
       "      <th>238</th>\n",
       "      <td>0.0285714</td>\n",
       "      <td>0.0285714</td>\n",
       "    </tr>\n",
       "    <tr>\n",
       "      <th>118</th>\n",
       "      <td>0.0714286</td>\n",
       "      <td>0.0714286</td>\n",
       "    </tr>\n",
       "    <tr>\n",
       "      <th>240</th>\n",
       "      <td>0.0294118</td>\n",
       "      <td>0.0294118</td>\n",
       "    </tr>\n",
       "    <tr>\n",
       "      <th>241</th>\n",
       "      <td>0.0294118</td>\n",
       "      <td>0.0294118</td>\n",
       "    </tr>\n",
       "  </tbody>\n",
       "</table>\n",
       "<p>121 rows × 2 columns</p>\n",
       "</div>"
      ],
      "text/plain": [
       "          ATTA       TAAT\n",
       "121          0          0\n",
       "122          0          0\n",
       "123          0          0\n",
       "124          0          0\n",
       "4            0          0\n",
       "..         ...        ...\n",
       "116       0.04       0.04\n",
       "238  0.0285714  0.0285714\n",
       "118  0.0714286  0.0714286\n",
       "240  0.0294118  0.0294118\n",
       "241  0.0294118  0.0294118\n",
       "\n",
       "[121 rows x 2 columns]"
      ]
     },
     "execution_count": 414,
     "metadata": {},
     "output_type": "execute_result"
    }
   ],
   "source": [
    "data1p[['ATTA', 'TAAT']]"
   ]
  },
  {
   "cell_type": "code",
   "execution_count": 415,
   "metadata": {
    "scrolled": true
   },
   "outputs": [
    {
     "data": {
      "text/plain": [
       "(121, 188)"
      ]
     },
     "execution_count": 415,
     "metadata": {},
     "output_type": "execute_result"
    }
   ],
   "source": [
    "to_keep = find_sufficient_mers(data1p.columns[4:68]) + find_sufficient_mers(data1p.columns[68:324])\n",
    "\n",
    "to_delete = pd.Index(np.setdiff1d(data1p.columns[4:324], to_keep))\n",
    "\n",
    "data1p = data1p.drop(to_delete, axis='columns')\n",
    "\n",
    "data1p.shape"
   ]
  },
  {
   "cell_type": "code",
   "execution_count": 416,
   "metadata": {},
   "outputs": [],
   "source": [
    "x_data1p = np.array(data1p.iloc[:, 36:186])\n",
    "probs_data1p = model.predict_proba(x_data1p)\n",
    "pred_data1p = model.predict(x_data1p)"
   ]
  },
  {
   "cell_type": "markdown",
   "metadata": {},
   "source": [
    "#### B2F10"
   ]
  },
  {
   "cell_type": "code",
   "execution_count": 418,
   "metadata": {
    "scrolled": true
   },
   "outputs": [],
   "source": [
    "data2 = pd.read_csv(\"data/20210415_cp_meta_b2f10_processed.csv\", decimal=',', sep=';')"
   ]
  },
  {
   "cell_type": "code",
   "execution_count": 419,
   "metadata": {},
   "outputs": [],
   "source": [
    "move_to_end(data2, \"rnafold_37_dot_par\")\n",
    "move_to_end(data2, \"rnafold_75_dot_par\")\n",
    "\n",
    "# convert to float\n",
    "data2.iloc[:, 4:338] = data2.iloc[:, 4:338].astype('float')\n",
    "\n",
    "# re-organize columns s.t. 3mers and 4mers are in alphabetical order\n",
    "info = data2.columns[:4].tolist()\n",
    "sorted_3mers = sorted(data2.columns[4:68])\n",
    "sorted_4mers = sorted(data2.columns[68:324])\n",
    "rnafolds = data2.columns[324:].tolist()\n",
    "\n",
    "data2 = data2[info+sorted_3mers+sorted_4mers+rnafolds]"
   ]
  },
  {
   "cell_type": "code",
   "execution_count": 420,
   "metadata": {},
   "outputs": [
    {
     "data": {
      "text/plain": [
       "(136, 340)"
      ]
     },
     "execution_count": 420,
     "metadata": {},
     "output_type": "execute_result"
    }
   ],
   "source": [
    "data2.shape"
   ]
  },
  {
   "cell_type": "code",
   "execution_count": 422,
   "metadata": {
    "scrolled": true
   },
   "outputs": [],
   "source": [
    "n_obs = int(data2.shape[0] / 2)\n",
    "data2p = pd.concat([canonical_mers(data2.iloc[i], data2.iloc[i+n_obs], 4, 324) for i in range(n_obs)], axis=1).T"
   ]
  },
  {
   "cell_type": "code",
   "execution_count": 424,
   "metadata": {
    "scrolled": true
   },
   "outputs": [
    {
     "data": {
      "text/plain": [
       "(68, 340)"
      ]
     },
     "execution_count": 424,
     "metadata": {},
     "output_type": "execute_result"
    }
   ],
   "source": [
    "data2p.shape"
   ]
  },
  {
   "cell_type": "code",
   "execution_count": 425,
   "metadata": {
    "scrolled": true
   },
   "outputs": [
    {
     "data": {
      "text/html": [
       "<div>\n",
       "<style scoped>\n",
       "    .dataframe tbody tr th:only-of-type {\n",
       "        vertical-align: middle;\n",
       "    }\n",
       "\n",
       "    .dataframe tbody tr th {\n",
       "        vertical-align: top;\n",
       "    }\n",
       "\n",
       "    .dataframe thead th {\n",
       "        text-align: right;\n",
       "    }\n",
       "</style>\n",
       "<table border=\"1\" class=\"dataframe\">\n",
       "  <thead>\n",
       "    <tr style=\"text-align: right;\">\n",
       "      <th></th>\n",
       "      <th>ATTA</th>\n",
       "      <th>TAAT</th>\n",
       "    </tr>\n",
       "  </thead>\n",
       "  <tbody>\n",
       "    <tr>\n",
       "      <th>68</th>\n",
       "      <td>0.0434783</td>\n",
       "      <td>0.0434783</td>\n",
       "    </tr>\n",
       "    <tr>\n",
       "      <th>69</th>\n",
       "      <td>0</td>\n",
       "      <td>0</td>\n",
       "    </tr>\n",
       "    <tr>\n",
       "      <th>70</th>\n",
       "      <td>0</td>\n",
       "      <td>0</td>\n",
       "    </tr>\n",
       "    <tr>\n",
       "      <th>3</th>\n",
       "      <td>0.0285714</td>\n",
       "      <td>0.0285714</td>\n",
       "    </tr>\n",
       "    <tr>\n",
       "      <th>72</th>\n",
       "      <td>0</td>\n",
       "      <td>0</td>\n",
       "    </tr>\n",
       "    <tr>\n",
       "      <th>...</th>\n",
       "      <td>...</td>\n",
       "      <td>...</td>\n",
       "    </tr>\n",
       "    <tr>\n",
       "      <th>131</th>\n",
       "      <td>0.0294118</td>\n",
       "      <td>0.0294118</td>\n",
       "    </tr>\n",
       "    <tr>\n",
       "      <th>64</th>\n",
       "      <td>0</td>\n",
       "      <td>0</td>\n",
       "    </tr>\n",
       "    <tr>\n",
       "      <th>65</th>\n",
       "      <td>0.0588235</td>\n",
       "      <td>0.0588235</td>\n",
       "    </tr>\n",
       "    <tr>\n",
       "      <th>66</th>\n",
       "      <td>0</td>\n",
       "      <td>0</td>\n",
       "    </tr>\n",
       "    <tr>\n",
       "      <th>67</th>\n",
       "      <td>0</td>\n",
       "      <td>0</td>\n",
       "    </tr>\n",
       "  </tbody>\n",
       "</table>\n",
       "<p>68 rows × 2 columns</p>\n",
       "</div>"
      ],
      "text/plain": [
       "          ATTA       TAAT\n",
       "68   0.0434783  0.0434783\n",
       "69           0          0\n",
       "70           0          0\n",
       "3    0.0285714  0.0285714\n",
       "72           0          0\n",
       "..         ...        ...\n",
       "131  0.0294118  0.0294118\n",
       "64           0          0\n",
       "65   0.0588235  0.0588235\n",
       "66           0          0\n",
       "67           0          0\n",
       "\n",
       "[68 rows x 2 columns]"
      ]
     },
     "execution_count": 425,
     "metadata": {},
     "output_type": "execute_result"
    }
   ],
   "source": [
    "data2p[['ATTA', 'TAAT']]"
   ]
  },
  {
   "cell_type": "code",
   "execution_count": 427,
   "metadata": {
    "scrolled": true
   },
   "outputs": [
    {
     "data": {
      "text/plain": [
       "(68, 188)"
      ]
     },
     "execution_count": 427,
     "metadata": {},
     "output_type": "execute_result"
    }
   ],
   "source": [
    "to_keep = find_sufficient_mers(data2p.columns[4:68]) + find_sufficient_mers(data2p.columns[68:324])\n",
    "\n",
    "to_delete = pd.Index(np.setdiff1d(data2p.columns[4:324], to_keep))\n",
    "\n",
    "data2p = data2p.drop(to_delete, axis='columns')\n",
    "\n",
    "data2p.shape"
   ]
  },
  {
   "cell_type": "code",
   "execution_count": 428,
   "metadata": {},
   "outputs": [],
   "source": [
    "x_data2p = np.array(data2p.iloc[:, 36:186])\n",
    "probs_data2p = model.predict_proba(x_data2p)\n",
    "pred_data2p = model.predict(x_data2p)"
   ]
  },
  {
   "cell_type": "code",
   "execution_count": 431,
   "metadata": {},
   "outputs": [],
   "source": [
    "# data1p.to_csv(\"data/christine_b2f05.gz\", compression=\"gzip\", index=False)\n",
    "# data2p.to_csv(\"data/christine_b2f10.gz\", compression=\"gzip\", index=False)"
   ]
  },
  {
   "cell_type": "code",
   "execution_count": 7,
   "metadata": {},
   "outputs": [],
   "source": [
    "data1p = pd.read_csv(\"data/christine_b2f05.gz\")\n",
    "data2p = pd.read_csv(\"data/christine_b2f10.gz\")\n",
    "data = pd.concat((data1p, data2p))"
   ]
  },
  {
   "cell_type": "markdown",
   "metadata": {},
   "source": [
    "### Learning"
   ]
  },
  {
   "cell_type": "code",
   "execution_count": 5,
   "metadata": {},
   "outputs": [],
   "source": [
    "from open_world_self_learning import SemisupProbabilisticRandomForestClassifier, OpenWorldSelfLearning"
   ]
  },
  {
   "cell_type": "code",
   "execution_count": 6,
   "metadata": {},
   "outputs": [],
   "source": [
    "cond = df2['el4-learn'] == 1\n",
    "x_l, y_l = np.array(df2[cond].iloc[:, 49:199]), np.array(df2.cas_prox_class[cond], dtype='<U20')\n",
    "x_u = np.array(data.iloc[:, 36:186])"
   ]
  },
  {
   "cell_type": "code",
   "execution_count": 7,
   "metadata": {},
   "outputs": [],
   "source": [
    "# a fast test"
   ]
  },
  {
   "cell_type": "code",
   "execution_count": 8,
   "metadata": {},
   "outputs": [],
   "source": [
    "base_model = SemisupProbabilisticRandomForestClassifier(n_estimators=1, \n",
    "                                                        splitter='random', cython=True,\n",
    "                                                        criterion='gini', n_jobs=-1,\n",
    "                                                        max_depth=12, oob_score=False,\n",
    "                                                        num_rand_splits=10,\n",
    "                                                        min_samples_split=5,\n",
    "                                                        max_features='sqrt',\n",
    "                                                        lam=0.5, random_state=0)\n",
    "\n",
    "model = OpenWorldSelfLearning(base_estimator=base_model, theta=0.8, gamma_rej=0.55, n_neighbors=5,\n",
    "                                              min_cluster_samples=4, decreased_pl_weights=False,\n",
    "                                              max_iter=2, random_state=0)"
   ]
  },
  {
   "cell_type": "code",
   "execution_count": 9,
   "metadata": {
    "scrolled": true
   },
   "outputs": [
    {
     "name": "stderr",
     "output_type": "stream",
     "text": [
      "/home/vasya/Documents/crispr-dr-pred/open_world_self_learning/semisup_probabilistic_classifier.py:401: RuntimeWarning: invalid value encountered in true_divide\n",
      "  (y_l_.shape[1], y_l_.shape[0])).T\n",
      "/home/vasya/Documents/crispr-dr-pred/open_world_self_learning/semisup_probabilistic_classifier.py:401: RuntimeWarning: invalid value encountered in true_divide\n",
      "  (y_l_.shape[1], y_l_.shape[0])).T\n",
      "/home/vasya/Documents/crispr-dr-pred/open_world_self_learning/semisup_probabilistic_classifier.py:401: RuntimeWarning: invalid value encountered in true_divide\n",
      "  (y_l_.shape[1], y_l_.shape[0])).T\n"
     ]
    }
   ],
   "source": [
    "model.fit(x_l, y_l, x_u)"
   ]
  },
  {
   "cell_type": "code",
   "execution_count": 10,
   "metadata": {
    "scrolled": true
   },
   "outputs": [
    {
     "data": {
      "text/plain": [
       "array(['-1', '-1', 'CAS-TypeIIA', '-1', '23', '-1', '-1', 'CAS-TypeIIC',\n",
       "       'CAS-TypeIIIB', '-1', 'CAS-TypeIIID', 'CAS-TypeIIIB', '-1', '-1',\n",
       "       '-1', '22', 'CAS-TypeIF', '-1', '-1', '-1', 'CAS-TypeVIA',\n",
       "       'CAS-TypeIE', '-1', '-1', '23', '-1', '-1', 'CAS-TypeVIB1', '-1',\n",
       "       '-1', 'CAS-TypeIE', '-1', 'CAS-TypeIE', 'CAS-TypeIC', '22',\n",
       "       'CAS-TypeIIC', '-1', '-1', '-1', '23', '-1', 'CAS-TypeVA',\n",
       "       'CAS-TypeIV', 'CAS-TypeIIC', '-1', 'CAS-TypeIE', '22', '-1',\n",
       "       'CAS-TypeIB', '-1', '-1', 'CAS-TypeIE', 'CAS-TypeVIB2',\n",
       "       'CAS-TypeVIB2', '-1', 'CAS-TypeVIB1', '-1', '-1', 'CAS-TypeIB',\n",
       "       '23', '-1', 'CAS-TypeIB', 'CAS-TypeIC', '22', '-1', '-1', '-1',\n",
       "       '-1', '-1', 'CAS-TypeIIIA', 'CAS-TypeVIA', '22', 'CAS-TypeIIIA',\n",
       "       '-1', '-1', '23', 'CAS-TypeIC', '-1', 'CAS-TypeIE', '-1', '-1',\n",
       "       'CAS-TypeIB', 'CAS-TypeIC', 'CAS', '-1', '-1', 'CAS-TypeVA', '-1',\n",
       "       '-1', '-1', 'CAS-TypeIIC', 'CAS-TypeIIC', '-1', '-1', '-1', '-1',\n",
       "       'CAS-TypeIB', '-1', '23', '23', '23', '23', '-1', 'CAS-TypeIC',\n",
       "       'CAS-TypeIC', 'CAS-TypeIC', 'CAS-TypeIC', 'CAS-TypeIB',\n",
       "       'CAS-TypeVA', 'CAS-TypeIE', 'CAS-TypeIE', 'CAS-TypeIV',\n",
       "       'CAS-TypeIC', 'CAS-TypeIB', '-1', 'CAS-TypeIB', '-1',\n",
       "       'CAS-TypeIIC', '-1', '-1', '-1', '-1', '-1', 'CAS-TypeVIA', '-1',\n",
       "       'CAS-TypeVIA', '-1', '-1', '-1', '-1', '-1', 'CAS-TypeIIC', '-1',\n",
       "       '-1', 'CAS-TypeIV', '-1', 'CAS-TypeIC', 'CAS-TypeIC',\n",
       "       'CAS-TypeVIA', 'CAS-TypeIC', '-1', '-1', 'CAS-TypeIIC', '-1',\n",
       "       'CAS-TypeIF', 'CAS-TypeIE', 'CAS-TypeIF', 'CAS-TypeVIA',\n",
       "       'CAS-TypeVIA', 'CAS-TypeIF', '-1', '-1', '-1', 'CAS-TypeIIC',\n",
       "       'CAS-TypeIC', '-1', 'CAS-TypeVA', '-1', '-1', '-1', '-1', '-1',\n",
       "       '-1', 'CAS', '-1', 'CAS-TypeIC', '-1', 'CAS-TypeIC', '-1',\n",
       "       'CAS-TypeIF', '-1', '-1', '-1', 'CAS-TypeIC', 'CAS-TypeIE',\n",
       "       'CAS-TypeIF', 'CAS-TypeIF', 'CAS-TypeIIC', '-1', '-1',\n",
       "       'CAS-TypeIA', '-1', '-1', '-1', 'CAS-TypeIV', '23', '-1',\n",
       "       'CAS-TypeIB', '-1'], dtype='<U21')"
      ]
     },
     "execution_count": 10,
     "metadata": {},
     "output_type": "execute_result"
    }
   ],
   "source": [
    "# to access predicted values for x_u\n",
    "model.y_u_pred"
   ]
  },
  {
   "cell_type": "markdown",
   "metadata": {},
   "source": [
    "Last time I've sent results for the Christine data sets, I used the following params"
   ]
  },
  {
   "cell_type": "code",
   "execution_count": null,
   "metadata": {},
   "outputs": [],
   "source": [
    "base_model = SemisupProbabilisticRandomForestClassifier(n_estimators=200, \n",
    "                                                        splitter='random', cython=True,\n",
    "                                                        criterion='gini', n_jobs=-1,\n",
    "                                                        max_depth=12, oob_score=False,\n",
    "                                                        num_rand_splits=10,\n",
    "                                                        min_samples_split=5,\n",
    "                                                        max_features='sqrt',\n",
    "                                                        lam=0.2, random_state=0)\n",
    "\n",
    "model2 = OpenWorldSelfLearning(base_estimator=base_model, theta=0.5, gamma_rej=0.5, n_neighbors=10,\n",
    "                                              min_cluster_samples=2, decreased_pl_weights=False,\n",
    "                                              max_iter=1, n_jobs=1, random_state=0)"
   ]
  }
 ],
 "metadata": {
  "kernelspec": {
   "display_name": "Python 3",
   "language": "python",
   "name": "python3"
  },
  "language_info": {
   "codemirror_mode": {
    "name": "ipython",
    "version": 3
   },
   "file_extension": ".py",
   "mimetype": "text/x-python",
   "name": "python",
   "nbconvert_exporter": "python",
   "pygments_lexer": "ipython3",
   "version": "3.7.6"
  }
 },
 "nbformat": 4,
 "nbformat_minor": 4
}
